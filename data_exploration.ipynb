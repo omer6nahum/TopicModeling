{
 "cells": [
  {
   "cell_type": "code",
   "execution_count": 10,
   "id": "b428b107-4b95-4f13-9f3b-e1418d3cf7a7",
   "metadata": {},
   "outputs": [],
   "source": [
    "%load_ext autoreload\n",
    "%autoreload 2"
   ]
  },
  {
   "cell_type": "code",
   "execution_count": 80,
   "id": "9fc1966b-573c-4a99-853e-b18790368ec8",
   "metadata": {},
   "outputs": [],
   "source": [
    "import pandas as pd\n",
    "import matplotlib.pyplot as plt\n",
    "\n",
    "pd.set_option('display.max_colwidth', 100)"
   ]
  },
  {
   "cell_type": "code",
   "execution_count": 81,
   "id": "4b1f6eb2-83b3-450d-9424-e0ea084b27a3",
   "metadata": {},
   "outputs": [
    {
     "data": {
      "text/html": [
       "<div>\n",
       "<style scoped>\n",
       "    .dataframe tbody tr th:only-of-type {\n",
       "        vertical-align: middle;\n",
       "    }\n",
       "\n",
       "    .dataframe tbody tr th {\n",
       "        vertical-align: top;\n",
       "    }\n",
       "\n",
       "    .dataframe thead th {\n",
       "        text-align: right;\n",
       "    }\n",
       "</style>\n",
       "<table border=\"1\" class=\"dataframe\">\n",
       "  <thead>\n",
       "    <tr style=\"text-align: right;\">\n",
       "      <th></th>\n",
       "      <th>date</th>\n",
       "      <th>text</th>\n",
       "    </tr>\n",
       "  </thead>\n",
       "  <tbody>\n",
       "    <tr>\n",
       "      <th>0</th>\n",
       "      <td>2015-03-08</td>\n",
       "      <td>Black Lives Matter is a U.S.-based international movement co-founded by three black women activi...</td>\n",
       "    </tr>\n",
       "    <tr>\n",
       "      <th>1</th>\n",
       "      <td>2015-09-08</td>\n",
       "      <td>\\nBlack Lives Matter is an activist movement in the United States that began in the wake of the ...</td>\n",
       "    </tr>\n",
       "    <tr>\n",
       "      <th>2</th>\n",
       "      <td>2016-03-09</td>\n",
       "      <td>\\nBlack Lives Matter (BLM) is an international activist movement, originating in the African-Ame...</td>\n",
       "    </tr>\n",
       "    <tr>\n",
       "      <th>3</th>\n",
       "      <td>2016-09-10</td>\n",
       "      <td>\\nBlack Lives Matter (BLM) is an international[1] activist movement, originating in the African-...</td>\n",
       "    </tr>\n",
       "    <tr>\n",
       "      <th>4</th>\n",
       "      <td>2017-03-12</td>\n",
       "      <td>\\nBlack Lives Matter (BLM) is an international activist movement, originating in the African-Ame...</td>\n",
       "    </tr>\n",
       "    <tr>\n",
       "      <th>5</th>\n",
       "      <td>2017-09-13</td>\n",
       "      <td>\\nBlack Lives Matter (BLM) is an international activist movement, originating in the African-Ame...</td>\n",
       "    </tr>\n",
       "    <tr>\n",
       "      <th>6</th>\n",
       "      <td>2018-03-18</td>\n",
       "      <td>\\nBlack Lives Matter (BLM) is an international activist movement, originating in the African-Ame...</td>\n",
       "    </tr>\n",
       "    <tr>\n",
       "      <th>7</th>\n",
       "      <td>2018-09-19</td>\n",
       "      <td>\\nBlack Lives Matter (BLM) is an international activist movement, originating in the African-Ame...</td>\n",
       "    </tr>\n",
       "    <tr>\n",
       "      <th>8</th>\n",
       "      <td>2019-04-11</td>\n",
       "      <td>\\nBlack Lives Matter (BLM) is an international activist movement, originating in the African-Ame...</td>\n",
       "    </tr>\n",
       "    <tr>\n",
       "      <th>9</th>\n",
       "      <td>2019-10-18</td>\n",
       "      <td>\\nBlack Lives Matter (BLM) is an international activist movement, originating in the African-Ame...</td>\n",
       "    </tr>\n",
       "    <tr>\n",
       "      <th>10</th>\n",
       "      <td>2020-04-21</td>\n",
       "      <td>\\nBlack Lives Matter (BLM) is an international activist movement, originating in the African-Ame...</td>\n",
       "    </tr>\n",
       "    <tr>\n",
       "      <th>11</th>\n",
       "      <td>2020-10-24</td>\n",
       "      <td>\\n\\nBlack Lives Matter (BLM) is a decentralized political and social movement advocating for non...</td>\n",
       "    </tr>\n",
       "    <tr>\n",
       "      <th>12</th>\n",
       "      <td>2021-04-26</td>\n",
       "      <td>\\nBlack Lives Matter (BLM) is a decentralized political and social movement protesting against i...</td>\n",
       "    </tr>\n",
       "    <tr>\n",
       "      <th>13</th>\n",
       "      <td>2021-10-26</td>\n",
       "      <td>\\n\\nBlack Lives Matter (BLM) is a decentralized political and social movement protesting against...</td>\n",
       "    </tr>\n",
       "    <tr>\n",
       "      <th>14</th>\n",
       "      <td>2022-05-01</td>\n",
       "      <td>\\n\\nBlack Lives Matter (BLM) is a decentralized political and social movement that seeks to high...</td>\n",
       "    </tr>\n",
       "  </tbody>\n",
       "</table>\n",
       "</div>"
      ],
      "text/plain": [
       "          date  \\\n",
       "0   2015-03-08   \n",
       "1   2015-09-08   \n",
       "2   2016-03-09   \n",
       "3   2016-09-10   \n",
       "4   2017-03-12   \n",
       "5   2017-09-13   \n",
       "6   2018-03-18   \n",
       "7   2018-09-19   \n",
       "8   2019-04-11   \n",
       "9   2019-10-18   \n",
       "10  2020-04-21   \n",
       "11  2020-10-24   \n",
       "12  2021-04-26   \n",
       "13  2021-10-26   \n",
       "14  2022-05-01   \n",
       "\n",
       "                                                                                                   text  \n",
       "0   Black Lives Matter is a U.S.-based international movement co-founded by three black women activi...  \n",
       "1   \\nBlack Lives Matter is an activist movement in the United States that began in the wake of the ...  \n",
       "2   \\nBlack Lives Matter (BLM) is an international activist movement, originating in the African-Ame...  \n",
       "3   \\nBlack Lives Matter (BLM) is an international[1] activist movement, originating in the African-...  \n",
       "4   \\nBlack Lives Matter (BLM) is an international activist movement, originating in the African-Ame...  \n",
       "5   \\nBlack Lives Matter (BLM) is an international activist movement, originating in the African-Ame...  \n",
       "6   \\nBlack Lives Matter (BLM) is an international activist movement, originating in the African-Ame...  \n",
       "7   \\nBlack Lives Matter (BLM) is an international activist movement, originating in the African-Ame...  \n",
       "8   \\nBlack Lives Matter (BLM) is an international activist movement, originating in the African-Ame...  \n",
       "9   \\nBlack Lives Matter (BLM) is an international activist movement, originating in the African-Ame...  \n",
       "10  \\nBlack Lives Matter (BLM) is an international activist movement, originating in the African-Ame...  \n",
       "11  \\n\\nBlack Lives Matter (BLM) is a decentralized political and social movement advocating for non...  \n",
       "12  \\nBlack Lives Matter (BLM) is a decentralized political and social movement protesting against i...  \n",
       "13  \\n\\nBlack Lives Matter (BLM) is a decentralized political and social movement protesting against...  \n",
       "14  \\n\\nBlack Lives Matter (BLM) is a decentralized political and social movement that seeks to high...  "
      ]
     },
     "execution_count": 81,
     "metadata": {},
     "output_type": "execute_result"
    }
   ],
   "source": [
    "data = pd.read_csv('BlackLivesMatter_revisions.csv')\n",
    "data"
   ]
  },
  {
   "cell_type": "code",
   "execution_count": 29,
   "id": "5ee60e8b-61cf-4b7e-9ce8-212962badc9d",
   "metadata": {},
   "outputs": [],
   "source": [
    "from text_preprocess import sentence_preprocess\n",
    "\n",
    "date_before, text_before = data.iloc[0].values\n",
    "date_after, text_after = data.iloc[1].values\n",
    "sentences, clean_sentences = sentence_preprocess(text_before)"
   ]
  },
  {
   "cell_type": "markdown",
   "id": "cfee52d3-84b9-45cd-b507-4239779686cb",
   "metadata": {},
   "source": [
    "Example of simple preprocess:"
   ]
  },
  {
   "cell_type": "code",
   "execution_count": 30,
   "id": "ecbaa070-dea8-4535-9e68-d32514f7323c",
   "metadata": {},
   "outputs": [
    {
     "data": {
      "text/plain": [
       "'Black Lives Matter is a U.S.-based international movement co-founded by three black women activist/organizers: Alicia Garza, Patrisse Cullors, and Opal Tometi.'"
      ]
     },
     "execution_count": 30,
     "metadata": {},
     "output_type": "execute_result"
    }
   ],
   "source": [
    "sentences[0]"
   ]
  },
  {
   "cell_type": "code",
   "execution_count": 31,
   "id": "71caa877-809c-418d-b306-c2a56e24629a",
   "metadata": {},
   "outputs": [
    {
     "data": {
      "text/plain": [
       "'black lives matter u based international movement co founded three black women activist organizers alicia garza patrisse cullors opal tometi'"
      ]
     },
     "execution_count": 31,
     "metadata": {},
     "output_type": "execute_result"
    }
   ],
   "source": [
    "clean_sentences[0]"
   ]
  },
  {
   "cell_type": "markdown",
   "id": "b24959fb-e1ee-4448-9d2e-baeb18b9062f",
   "metadata": {},
   "source": [
    "## Different between before and after:"
   ]
  },
  {
   "cell_type": "markdown",
   "id": "4bd3c7f0-d217-4c28-ba8c-6f06f85b9547",
   "metadata": {},
   "source": [
    "An example for a sentence-wise difference dataframe (a change density between *before* and *after* for each sentence)"
   ]
  },
  {
   "cell_type": "code",
   "execution_count": 82,
   "id": "4b62eb11-eed3-46f9-97ec-80e49ec4ebf7",
   "metadata": {},
   "outputs": [
    {
     "data": {
      "text/html": [
       "<div>\n",
       "<style scoped>\n",
       "    .dataframe tbody tr th:only-of-type {\n",
       "        vertical-align: middle;\n",
       "    }\n",
       "\n",
       "    .dataframe tbody tr th {\n",
       "        vertical-align: top;\n",
       "    }\n",
       "\n",
       "    .dataframe thead th {\n",
       "        text-align: right;\n",
       "    }\n",
       "</style>\n",
       "<table border=\"1\" class=\"dataframe\">\n",
       "  <thead>\n",
       "    <tr style=\"text-align: right;\">\n",
       "      <th></th>\n",
       "      <th>text_before</th>\n",
       "      <th>text_after</th>\n",
       "      <th>change_density</th>\n",
       "    </tr>\n",
       "  </thead>\n",
       "  <tbody>\n",
       "    <tr>\n",
       "      <th>0</th>\n",
       "      <td>Black Lives Matter is a U.S.-based international movement co-founded by three black women activi...</td>\n",
       "      <td>None</td>\n",
       "      <td>-1.0</td>\n",
       "    </tr>\n",
       "    <tr>\n",
       "      <th>1</th>\n",
       "      <td>[1]\\nWhen they created Black Lives Matter and as of March 2015, Garza was Special Projects Direc...</td>\n",
       "      <td>None</td>\n",
       "      <td>-1.0</td>\n",
       "    </tr>\n",
       "    <tr>\n",
       "      <th>2</th>\n",
       "      <td>[2]\\n\\nThe #BlackLivesMatter movement began as a hashtag after George Zimmerman's acquittal for ...</td>\n",
       "      <td>None</td>\n",
       "      <td>-1.0</td>\n",
       "    </tr>\n",
       "    <tr>\n",
       "      <th>3</th>\n",
       "      <td>Currently, there are 23 Black Lives Matter chapters in the U.S., Canada, and Ghana.</td>\n",
       "      <td>Currently, there are 23 Black Lives Matter chapters in the U.S., Canada, and Ghana.</td>\n",
       "      <td>0.0</td>\n",
       "    </tr>\n",
       "    <tr>\n",
       "      <th>4</th>\n",
       "      <td>[3] Black Lives Matter is \"a unique contribution that goes beyond extrajudicial killings of Blac...</td>\n",
       "      <td>[8] The organization states that Black Lives Matter is \"a unique contribution that goes beyond e...</td>\n",
       "      <td>0.245283</td>\n",
       "    </tr>\n",
       "    <tr>\n",
       "      <th>...</th>\n",
       "      <td>...</td>\n",
       "      <td>...</td>\n",
       "      <td>...</td>\n",
       "    </tr>\n",
       "    <tr>\n",
       "      <th>63</th>\n",
       "      <td>None</td>\n",
       "      <td>Numerous media organizations have referred to it as \"a new civil rights movement.</td>\n",
       "      <td>1.0</td>\n",
       "    </tr>\n",
       "    <tr>\n",
       "      <th>64</th>\n",
       "      <td>None</td>\n",
       "      <td>Several unarmed African Americans who died at the hands of law enforcement have had their deaths...</td>\n",
       "      <td>1.0</td>\n",
       "    </tr>\n",
       "    <tr>\n",
       "      <th>65</th>\n",
       "      <td>None</td>\n",
       "      <td>The group received fresh impetus from the 2014 deaths of two unarmed African Americans, teenager...</td>\n",
       "      <td>1.0</td>\n",
       "    </tr>\n",
       "    <tr>\n",
       "      <th>66</th>\n",
       "      <td>None</td>\n",
       "      <td>The Black Lives Matter movement campaigns against what it calls police brutality in the United S...</td>\n",
       "      <td>1.0</td>\n",
       "    </tr>\n",
       "    <tr>\n",
       "      <th>67</th>\n",
       "      <td>None</td>\n",
       "      <td>\\nBlack Lives Matter is an activist movement in the United States that began in the wake of the ...</td>\n",
       "      <td>1.0</td>\n",
       "    </tr>\n",
       "  </tbody>\n",
       "</table>\n",
       "<p>68 rows × 3 columns</p>\n",
       "</div>"
      ],
      "text/plain": [
       "                                                                                            text_before  \\\n",
       "0   Black Lives Matter is a U.S.-based international movement co-founded by three black women activi...   \n",
       "1   [1]\\nWhen they created Black Lives Matter and as of March 2015, Garza was Special Projects Direc...   \n",
       "2   [2]\\n\\nThe #BlackLivesMatter movement began as a hashtag after George Zimmerman's acquittal for ...   \n",
       "3                   Currently, there are 23 Black Lives Matter chapters in the U.S., Canada, and Ghana.   \n",
       "4   [3] Black Lives Matter is \"a unique contribution that goes beyond extrajudicial killings of Blac...   \n",
       "..                                                                                                  ...   \n",
       "63                                                                                                 None   \n",
       "64                                                                                                 None   \n",
       "65                                                                                                 None   \n",
       "66                                                                                                 None   \n",
       "67                                                                                                 None   \n",
       "\n",
       "                                                                                             text_after  \\\n",
       "0                                                                                                  None   \n",
       "1                                                                                                  None   \n",
       "2                                                                                                  None   \n",
       "3                   Currently, there are 23 Black Lives Matter chapters in the U.S., Canada, and Ghana.   \n",
       "4   [8] The organization states that Black Lives Matter is \"a unique contribution that goes beyond e...   \n",
       "..                                                                                                  ...   \n",
       "63                    Numerous media organizations have referred to it as \"a new civil rights movement.   \n",
       "64  Several unarmed African Americans who died at the hands of law enforcement have had their deaths...   \n",
       "65  The group received fresh impetus from the 2014 deaths of two unarmed African Americans, teenager...   \n",
       "66  The Black Lives Matter movement campaigns against what it calls police brutality in the United S...   \n",
       "67  \\nBlack Lives Matter is an activist movement in the United States that began in the wake of the ...   \n",
       "\n",
       "   change_density  \n",
       "0            -1.0  \n",
       "1            -1.0  \n",
       "2            -1.0  \n",
       "3             0.0  \n",
       "4        0.245283  \n",
       "..            ...  \n",
       "63            1.0  \n",
       "64            1.0  \n",
       "65            1.0  \n",
       "66            1.0  \n",
       "67            1.0  \n",
       "\n",
       "[68 rows x 3 columns]"
      ]
     },
     "execution_count": 82,
     "metadata": {},
     "output_type": "execute_result"
    }
   ],
   "source": [
    "from Diff import diff_score, create_diff_df\n",
    "df = create_diff_df(text_before, text_after)\n",
    "df"
   ]
  },
  {
   "cell_type": "code",
   "execution_count": 86,
   "id": "fb48cd56-d730-4918-8391-57afca72efad",
   "metadata": {},
   "outputs": [
    {
     "data": {
      "image/png": "[encoded data removed]",
      "text/plain": [
       "<Figure size 1080x360 with 1 Axes>"
      ]
     },
     "metadata": {
      "needs_background": "light"
     },
     "output_type": "display_data"
    }
   ],
   "source": [
    "text_diffs = [0]\n",
    "n = data.shape[0]\n",
    "for i in range(n - 1):\n",
    "    text_diffs.append(diff_score(data.iloc[i]['text'], data.iloc[i + 1]['text']))\n",
    "\n",
    "plt.figure(figsize=(15,5))\n",
    "plt.plot(range(n), text_diffs, c='lightseagreen')\n",
    "plt.scatter(range(n), text_diffs, c='lightseagreen')\n",
    "plt.xticks(ticks=range(n), labels=data['date'], rotation=45)\n",
    "plt.xlabel('Date')\n",
    "plt.ylabel('Mean absulote difference')\n",
    "plt.title('Diff between revisions - Black Lives Matter')\n",
    "plt.show()"
   ]
  },
  {
   "cell_type": "markdown",
   "id": "4aabbdba-22ce-4f43-92d9-28b1b741d352",
   "metadata": {},
   "source": [
    "The value at each point (i) is the level of difference between this date (i) and the next date (i+1)"
   ]
  },
  {
   "cell_type": "code",
   "execution_count": 90,
   "id": "0f645ffd-0763-47a9-813d-42077e65fc55",
   "metadata": {},
   "outputs": [
    {
     "data": {
      "image/png": "[encoded data removed]",
      "text/plain": [
       "<Figure size 1080x360 with 1 Axes>"
      ]
     },
     "metadata": {
      "needs_background": "light"
     },
     "output_type": "display_data"
    }
   ],
   "source": [
    "from nltk.tokenize import sent_tokenize\n",
    "\n",
    "text_lengths = data['text'].apply(lambda t: len(sent_tokenize(t))).values\n",
    "plt.figure(figsize=(15,5))\n",
    "plt.plot(range(n), text_lengths, c='darkslategrey')\n",
    "plt.scatter(range(n), text_lengths, c='darkslategrey')\n",
    "plt.xticks(ticks=range(n), labels=data['date'], rotation=45)\n",
    "plt.xlabel('Date')\n",
    "plt.ylabel('Number of sentences')\n",
    "plt.title('Number of sentences per revision - Black Lives Matter')\n",
    "plt.show()"
   ]
  },
  {
   "cell_type": "markdown",
   "id": "c8cfeabb-6859-4f32-ab9f-4b052dadf390",
   "metadata": {},
   "source": [
    "For a 1-step process, based on these plots, we will take 3 *before*-*after* pairs:\n",
    "* Large diff, Short text (**LS**) $~~~~~~~~~~~~~~~~~~~$ (2015-03-08 -> 2015-09-08)\n",
    "* Large diff, Long text (**LL**) $~~~~~~~~~~~~~~~~~~~~$ (2020-04-21 -> 2020-10-24)\n",
    "* Small diff, Medium-length text (**SM**) $~~~$ (2018-03-18 -> 2018-09-19)"
   ]
  },
  {
   "cell_type": "code",
   "execution_count": null,
   "id": "b7d0d760-6f92-4f85-b76b-a2b71539e210",
   "metadata": {},
   "outputs": [],
   "source": [
    "events = {'2014-08-10': 'Ferguson unrest', \n",
    "          '2016-11-08': '2016 United States presidential election'\n",
    "          '2020-05-25': 'Murder of George Floyd', \n"
   ]
  }
 ],
 "metadata": {
  "kernelspec": {
   "display_name": "Python 3 (ipykernel)",
   "language": "python",
   "name": "python3"
  },
  "language_info": {
   "codemirror_mode": {
    "name": "ipython",
    "version": 3
   },
   "file_extension": ".py",
   "mimetype": "text/x-python",
   "name": "python",
   "nbconvert_exporter": "python",
   "pygments_lexer": "ipython3",
   "version": "3.8.8"
  }
 },
 "nbformat": 4,
 "nbformat_minor": 5
}
